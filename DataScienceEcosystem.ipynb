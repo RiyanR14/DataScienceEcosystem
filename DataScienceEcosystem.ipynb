{
 "cells": [
  {
   "cell_type": "markdown",
   "id": "fc26e952",
   "metadata": {},
   "source": [
    "# Data Science Tools and Ecosystem"
   ]
  },
  {
   "cell_type": "markdown",
   "id": "3ee34da6",
   "metadata": {},
   "source": [
    "In this notebook, Data Science Tools and Ecosystem are summarized."
   ]
  },
  {
   "cell_type": "markdown",
   "id": "56a8d581",
   "metadata": {},
   "source": [
    "Objectives:\n",
    "unordered list:popular languages, commonly used libraries,datascience tools,arithmetic expression"
   ]
  },
  {
   "cell_type": "markdown",
   "id": "8cf8d196",
   "metadata": {},
   "source": [
    "Some of the popular languages that Data Scientists use are:\n",
    "Python\n",
    "R\n",
    "SQL\n",
    "Java \n",
    "JavaScript and\n",
    "C/C++"
   ]
  },
  {
   "cell_type": "markdown",
   "id": "71a6c5f4",
   "metadata": {},
   "source": [
    "Some of the commonly used libraries used by Data Scientists include:\n",
    "NumPy\n",
    "SciPy\n",
    "Pandas\n",
    "Matplotlib\n",
    "SciKit-Learn."
   ]
  },
  {
   "cell_type": "markdown",
   "id": "90aa16df",
   "metadata": {},
   "source": [
    "Data Science Tools\n",
    "TensorFlow\n",
    "Apache Spark\n",
    "Tableau"
   ]
  },
  {
   "cell_type": "markdown",
   "id": "02fc2375",
   "metadata": {},
   "source": [
    "### Below are a few examples of evaluating arithmetic expressions in Python\n",
    "\n",
    "result1 = 2 + 3 * 4  # Multiplication takes precedence\n",
    "print(result1)  # Output: 14\n",
    "\n",
    "result2 = (2 + 3) * 4  # Parentheses enforce order\n",
    "print(result2)  # Output: 20\n",
    "\n",
    "result3 = 10 / 3\n",
    "print(result3)  # Output: 3.3333333333333335\n",
    "\n",
    "\n",
    "result4 = 10 // 3\n",
    "print(result4)  # Output: 3 "
   ]
  },
  {
   "cell_type": "code",
   "execution_count": null,
   "id": "ff185b90",
   "metadata": {},
   "outputs": [],
   "source": []
  },
  {
   "cell_type": "code",
   "execution_count": 1,
   "id": "1b71f5b2",
   "metadata": {},
   "outputs": [
    {
     "data": {
      "text/plain": [
       "17"
      ]
     },
     "execution_count": 1,
     "metadata": {},
     "output_type": "execute_result"
    }
   ],
   "source": [
    "(3*4)+5\n",
    "# This a simple arithmetic expression to mutiply then add integers\n"
   ]
  },
  {
   "cell_type": "code",
   "execution_count": 2,
   "id": "c02910df",
   "metadata": {},
   "outputs": [
    {
     "name": "stdout",
     "output_type": "stream",
     "text": [
      "3.3333333333333335 hrs\n"
     ]
    }
   ],
   "source": [
    "#This will convert 200 minutes to hours by diving by 60\n",
    "min=200\n",
    "hr=min/60\n",
    "print(hr,'hrs')"
   ]
  },
  {
   "cell_type": "markdown",
   "id": "b0344bcc",
   "metadata": {},
   "source": [
    "## Author\n",
    "Riyan R"
   ]
  }
 ],
 "metadata": {
  "kernelspec": {
   "display_name": "Python 3 (ipykernel)",
   "language": "python",
   "name": "python3"
  },
  "language_info": {
   "codemirror_mode": {
    "name": "ipython",
    "version": 3
   },
   "file_extension": ".py",
   "mimetype": "text/x-python",
   "name": "python",
   "nbconvert_exporter": "python",
   "pygments_lexer": "ipython3",
   "version": "3.11.3"
  }
 },
 "nbformat": 4,
 "nbformat_minor": 5
}
